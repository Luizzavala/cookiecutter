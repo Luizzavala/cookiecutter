{
 "cells": [
  {
   "cell_type": "code",
   "execution_count": null,
   "metadata": {},
   "outputs": [],
   "source": []
  }
 ],
 "metadata": {
  "kernelspec": {
   "display_name": "Python 3.7.9 64-bit",
   "language": "python",
   "name": "python3"
  },
  "language_info": {
   "name": "python",
   "version": "3.7.9"
  },
  "orig_nbformat": 4,
  "vscode": {
   "interpreter": {
    "hash": "a53c142015276e1c30147df75c7437a16dd87884786da73a59d589947e48a783"
   }
  }
 },
 "nbformat": 4,
 "nbformat_minor": 2
}
